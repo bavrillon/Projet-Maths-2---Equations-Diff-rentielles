{
 "cells": [
  {
   "cell_type": "code",
   "execution_count": 28,
   "id": "7432c903-a4fa-40e2-a92e-8b781f1d7b30",
   "metadata": {},
   "outputs": [],
   "source": [
    "import numpy as np \n",
    "import matplotlib.pyplot as plt\n",
    "import matplotlib.animation as animation\n",
    "from mpl_toolkits.mplot3d import Axes3D\n",
    "#%matplotlib notebook\n",
    "plt.rcParams[\"figure.figsize\"] = (14,7)"
   ]
  },
  {
   "cell_type": "code",
   "execution_count": 29,
   "id": "bfd53e33-8239-4168-bb36-276a0a7eb456",
   "metadata": {},
   "outputs": [
    {
     "name": "stderr",
     "output_type": "stream",
     "text": [
      "C:\\Users\\marti\\AppData\\Local\\Temp\\ipykernel_8264\\4054538208.py:4: RuntimeWarning: invalid value encountered in scalar divide\n",
      "  u = lambda t: (1-np.cos(2*np.pi*t/T))*np.cos(E*t+ np.sin(np.pi *t/T)/(np.pi/T))\n"
     ]
    },
    {
     "ename": "ZeroDivisionError",
     "evalue": "float division by zero",
     "output_type": "error",
     "traceback": [
      "\u001b[1;31m---------------------------------------------------------------------------\u001b[0m",
      "\u001b[1;31mZeroDivisionError\u001b[0m                         Traceback (most recent call last)",
      "Cell \u001b[1;32mIn[29], line 25\u001b[0m\n\u001b[0;32m     22\u001b[0m     \u001b[38;5;28;01mreturn\u001b[39;00m(t,psi)\n\u001b[0;32m     24\u001b[0m T \u001b[38;5;241m=\u001b[39m euler_explicit(psi_0,t_0,t_f,E,delta,dt)[\u001b[38;5;241m0\u001b[39m]\n\u001b[1;32m---> 25\u001b[0m Norme_psi \u001b[38;5;241m=\u001b[39m np\u001b[38;5;241m.\u001b[39mlinalg\u001b[38;5;241m.\u001b[39mnorm(\u001b[43meuler_explicit\u001b[49m\u001b[43m(\u001b[49m\u001b[43mpsi_0\u001b[49m\u001b[43m,\u001b[49m\u001b[43mt_0\u001b[49m\u001b[43m,\u001b[49m\u001b[43mt_f\u001b[49m\u001b[43m,\u001b[49m\u001b[43mE\u001b[49m\u001b[43m,\u001b[49m\u001b[43mdelta\u001b[49m\u001b[43m,\u001b[49m\u001b[43mdt\u001b[49m\u001b[43m)\u001b[49m[\u001b[38;5;241m1\u001b[39m],\u001b[38;5;28mord\u001b[39m\u001b[38;5;241m=\u001b[39m\u001b[38;5;241m2\u001b[39m,axis\u001b[38;5;241m=\u001b[39m\u001b[38;5;241m1\u001b[39m)\n\u001b[0;32m     26\u001b[0m plt\u001b[38;5;241m.\u001b[39mfigure()\n\u001b[0;32m     27\u001b[0m plt\u001b[38;5;241m.\u001b[39mplot(T,Norme_psi)\n",
      "Cell \u001b[1;32mIn[29], line 21\u001b[0m, in \u001b[0;36meuler_explicit\u001b[1;34m(psi_0, t_0, t_f, E, delta, dt)\u001b[0m\n\u001b[0;32m     19\u001b[0m psi[\u001b[38;5;241m0\u001b[39m] \u001b[38;5;241m=\u001b[39m psi_0\n\u001b[0;32m     20\u001b[0m \u001b[38;5;28;01mfor\u001b[39;00m k \u001b[38;5;129;01min\u001b[39;00m \u001b[38;5;28mrange\u001b[39m(\u001b[38;5;241m1\u001b[39m,n):\n\u001b[1;32m---> 21\u001b[0m     psi[k] \u001b[38;5;241m=\u001b[39m \u001b[43mf\u001b[49m\u001b[43m(\u001b[49m\u001b[43mpsi\u001b[49m\u001b[43m[\u001b[49m\u001b[43mk\u001b[49m\u001b[38;5;241;43m-\u001b[39;49m\u001b[38;5;241;43m1\u001b[39;49m\u001b[43m]\u001b[49m\u001b[43m,\u001b[49m\u001b[43mtps\u001b[49m\u001b[43m[\u001b[49m\u001b[43mk\u001b[49m\u001b[38;5;241;43m-\u001b[39;49m\u001b[38;5;241;43m1\u001b[39;49m\u001b[43m]\u001b[49m\u001b[43m)\u001b[49m\n\u001b[0;32m     22\u001b[0m \u001b[38;5;28;01mreturn\u001b[39;00m(t,psi)\n",
      "Cell \u001b[1;32mIn[29], line 13\u001b[0m, in \u001b[0;36mf\u001b[1;34m(x, t)\u001b[0m\n\u001b[0;32m     12\u001b[0m \u001b[38;5;28;01mdef\u001b[39;00m \u001b[38;5;21mf\u001b[39m(x,t):\n\u001b[1;32m---> 13\u001b[0m     \u001b[38;5;28;01mreturn\u001b[39;00m(np\u001b[38;5;241m.\u001b[39mdot(E\u001b[38;5;241m*\u001b[39mOmega_z\u001b[38;5;241m+\u001b[39mdelta\u001b[38;5;241m*\u001b[39m\u001b[43mu\u001b[49m\u001b[43m(\u001b[49m\u001b[43mt\u001b[49m\u001b[43m)\u001b[49m\u001b[38;5;241m*\u001b[39mOmega_x,np\u001b[38;5;241m.\u001b[39mtranspose(x)))\n",
      "Cell \u001b[1;32mIn[29], line 4\u001b[0m, in \u001b[0;36m<lambda>\u001b[1;34m(t)\u001b[0m\n\u001b[0;32m      2\u001b[0m delta\u001b[38;5;241m=\u001b[39m\u001b[38;5;241m1\u001b[39m \n\u001b[0;32m      3\u001b[0m T\u001b[38;5;241m=\u001b[39m\u001b[38;5;241m50\u001b[39m\n\u001b[1;32m----> 4\u001b[0m u \u001b[38;5;241m=\u001b[39m \u001b[38;5;28;01mlambda\u001b[39;00m t: (\u001b[38;5;241m1\u001b[39m\u001b[38;5;241m-\u001b[39mnp\u001b[38;5;241m.\u001b[39mcos(\u001b[38;5;241m2\u001b[39m\u001b[38;5;241m*\u001b[39mnp\u001b[38;5;241m.\u001b[39mpi\u001b[38;5;241m*\u001b[39mt\u001b[38;5;241m/\u001b[39mT))\u001b[38;5;241m*\u001b[39mnp\u001b[38;5;241m.\u001b[39mcos(E\u001b[38;5;241m*\u001b[39mt\u001b[38;5;241m+\u001b[39m np\u001b[38;5;241m.\u001b[39msin(np\u001b[38;5;241m.\u001b[39mpi \u001b[38;5;241m*\u001b[39mt\u001b[38;5;241m/\u001b[39mT)\u001b[38;5;241m/\u001b[39m(\u001b[43mnp\u001b[49m\u001b[38;5;241;43m.\u001b[39;49m\u001b[43mpi\u001b[49m\u001b[38;5;241;43m/\u001b[39;49m\u001b[43mT\u001b[49m))\n\u001b[0;32m      5\u001b[0m psi_0\u001b[38;5;241m=\u001b[39mnp\u001b[38;5;241m.\u001b[39marray([\u001b[38;5;241m0\u001b[39m,\u001b[38;5;241m0\u001b[39m,\u001b[38;5;241m-\u001b[39m\u001b[38;5;241m1\u001b[39m])\n\u001b[0;32m      6\u001b[0m dt\u001b[38;5;241m=\u001b[39m\u001b[38;5;241m1e-3\u001b[39m\n",
      "\u001b[1;31mZeroDivisionError\u001b[0m: float division by zero"
     ]
    }
   ],
   "source": [
    "E=2\n",
    "delta=1 \n",
    "T=50\n",
    "u = lambda t: (1-np.cos(2*np.pi*t/T))*np.cos(E*t+ np.sin(np.pi *t/T)/(np.pi/T))\n",
    "psi_0=np.array([0,0,-1])\n",
    "dt=1e-3\n",
    "Omega_x=np.array([[0,0,0],[0,0,-1],[0,1,0]])\n",
    "Omega_z=np.array([[0,-1,0],[1,0,0],[0,0,0]])\n",
    "t_0=0.0000\n",
    "t_f=10*T\n",
    "\n",
    "def f(x,t):\n",
    "    return(np.dot(E*Omega_z+delta*u(t)*Omega_x,np.transpose(x)))\n",
    "\n",
    "def euler_explicit(psi_0,t_0,t_f,E,delta,dt):\n",
    "    tps = np.arange(t_0,t_f,dt)\n",
    "    n = len(tps)\n",
    "    psi = np.zeros((n,3))\n",
    "    psi[0] = psi_0\n",
    "    for k in range(1,n):\n",
    "        psi[k] = f(psi[k-1],tps[k-1])\n",
    "    return(t,psi)\n",
    "\n",
    "T = euler_explicit(psi_0,t_0,t_f,E,delta,dt)[0]\n",
    "Norme_psi = np.linalg.norm(euler_explicit(psi_0,t_0,t_f,E,delta,dt)[1],ord=2,axis=1)\n",
    "plt.figure()\n",
    "plt.plot(T,Norme_psi)\n",
    "plt.show()\n",
    "\n"
   ]
  },
  {
   "cell_type": "code",
   "execution_count": null,
   "id": "2e25ade8-ecb6-44f2-a0ab-62e4f4c7188c",
   "metadata": {},
   "outputs": [],
   "source": []
  }
 ],
 "metadata": {
  "kernelspec": {
   "display_name": "Python 3 (ipykernel)",
   "language": "python",
   "name": "python3"
  },
  "language_info": {
   "codemirror_mode": {
    "name": "ipython",
    "version": 3
   },
   "file_extension": ".py",
   "mimetype": "text/x-python",
   "name": "python",
   "nbconvert_exporter": "python",
   "pygments_lexer": "ipython3",
   "version": "3.12.4"
  }
 },
 "nbformat": 4,
 "nbformat_minor": 5
}
